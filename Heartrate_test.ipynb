{
  "nbformat": 4,
  "nbformat_minor": 0,
  "metadata": {
    "colab": {
      "name": "Heartrate_test.ipynb",
      "provenance": [],
      "collapsed_sections": [],
      "toc_visible": true,
      "authorship_tag": "ABX9TyOFlqpC75s6WKjzD5W48xWu",
      "include_colab_link": true
    },
    "kernelspec": {
      "name": "python3",
      "display_name": "Python 3"
    },
    "accelerator": "GPU"
  },
  "cells": [
    {
      "cell_type": "markdown",
      "metadata": {
        "id": "view-in-github",
        "colab_type": "text"
      },
      "source": [
        "<a href=\"https://colab.research.google.com/github/ftornay/eulerian-remote-heartrate-detection/blob/master/Heartrate_test.ipynb\" target=\"_parent\"><img src=\"https://colab.research.google.com/assets/colab-badge.svg\" alt=\"Open In Colab\"/></a>"
      ]
    },
    {
      "cell_type": "code",
      "metadata": {
        "id": "4bgHVFc2fUjN",
        "colab_type": "code",
        "outputId": "695fc1f8-4b98-43de-d98f-9b83230c00c8",
        "colab": {
          "base_uri": "https://localhost:8080/",
          "height": 139
        }
      },
      "source": [
        "!git clone https://github.com/ftornay/eulerian-remote-heartrate-detection.git"
      ],
      "execution_count": 0,
      "outputs": [
        {
          "output_type": "stream",
          "text": [
            "Cloning into 'eulerian-remote-heartrate-detection'...\n",
            "remote: Enumerating objects: 130, done.\u001b[K\n",
            "remote: Counting objects: 100% (130/130), done.\u001b[K\n",
            "remote: Compressing objects: 100% (100/100), done.\u001b[K\n",
            "remote: Total 194 (delta 70), reused 81 (delta 27), pack-reused 64\u001b[K\n",
            "Receiving objects: 100% (194/194), 52.86 MiB | 31.40 MiB/s, done.\n",
            "Resolving deltas: 100% (96/96), done.\n"
          ],
          "name": "stdout"
        }
      ]
    },
    {
      "cell_type": "code",
      "metadata": {
        "id": "3VSiiUdsfaFC",
        "colab_type": "code",
        "outputId": "a22a765f-d189-4d52-f52a-8feedbd8ce57",
        "colab": {
          "base_uri": "https://localhost:8080/",
          "height": 34
        }
      },
      "source": [
        "cd eulerian-remote-heartrate-detection"
      ],
      "execution_count": 0,
      "outputs": [
        {
          "output_type": "stream",
          "text": [
            "/content/eulerian-remote-heartrate-detection\n"
          ],
          "name": "stdout"
        }
      ]
    },
    {
      "cell_type": "code",
      "metadata": {
        "id": "GbTZyiaUgmkO",
        "colab_type": "code",
        "outputId": "c7f47769-e1cd-46ae-867d-70e2a86fbbbc",
        "colab": {
          "base_uri": "https://localhost:8080/",
          "height": 298
        }
      },
      "source": [
        "!pip install flask_ngrok\n",
        "from web import app\n",
        "!mkdir upload"
      ],
      "execution_count": 0,
      "outputs": [
        {
          "output_type": "stream",
          "text": [
            "Collecting flask_ngrok\n",
            "  Downloading https://files.pythonhosted.org/packages/af/6c/f54cb686ad1129e27d125d182f90f52b32f284e6c8df58c1bae54fa1adbc/flask_ngrok-0.0.25-py3-none-any.whl\n",
            "Requirement already satisfied: requests in /usr/local/lib/python3.6/dist-packages (from flask_ngrok) (2.23.0)\n",
            "Requirement already satisfied: Flask>=0.8 in /usr/local/lib/python3.6/dist-packages (from flask_ngrok) (1.1.2)\n",
            "Requirement already satisfied: idna<3,>=2.5 in /usr/local/lib/python3.6/dist-packages (from requests->flask_ngrok) (2.9)\n",
            "Requirement already satisfied: chardet<4,>=3.0.2 in /usr/local/lib/python3.6/dist-packages (from requests->flask_ngrok) (3.0.4)\n",
            "Requirement already satisfied: certifi>=2017.4.17 in /usr/local/lib/python3.6/dist-packages (from requests->flask_ngrok) (2020.4.5.1)\n",
            "Requirement already satisfied: urllib3!=1.25.0,!=1.25.1,<1.26,>=1.21.1 in /usr/local/lib/python3.6/dist-packages (from requests->flask_ngrok) (1.24.3)\n",
            "Requirement already satisfied: Jinja2>=2.10.1 in /usr/local/lib/python3.6/dist-packages (from Flask>=0.8->flask_ngrok) (2.11.2)\n",
            "Requirement already satisfied: Werkzeug>=0.15 in /usr/local/lib/python3.6/dist-packages (from Flask>=0.8->flask_ngrok) (1.0.1)\n",
            "Requirement already satisfied: itsdangerous>=0.24 in /usr/local/lib/python3.6/dist-packages (from Flask>=0.8->flask_ngrok) (1.1.0)\n",
            "Requirement already satisfied: click>=5.1 in /usr/local/lib/python3.6/dist-packages (from Flask>=0.8->flask_ngrok) (7.1.2)\n",
            "Requirement already satisfied: MarkupSafe>=0.23 in /usr/local/lib/python3.6/dist-packages (from Jinja2>=2.10.1->Flask>=0.8->flask_ngrok) (1.1.1)\n",
            "Installing collected packages: flask-ngrok\n",
            "Successfully installed flask-ngrok-0.0.25\n"
          ],
          "name": "stdout"
        }
      ]
    },
    {
      "cell_type": "code",
      "metadata": {
        "id": "4kyLQ-Iu3D_R",
        "colab_type": "code",
        "outputId": "be0f3dff-f3cf-4751-991b-0bbd273eb655",
        "colab": {
          "base_uri": "https://localhost:8080/",
          "height": 1000
        }
      },
      "source": [
        "app.secret_key='9999888811111333344455555'\n",
        "app.run()"
      ],
      "execution_count": 0,
      "outputs": [
        {
          "output_type": "stream",
          "text": [
            " * Serving Flask app \"web\" (lazy loading)\n",
            " * Environment: production\n",
            "\u001b[31m   WARNING: This is a development server. Do not use it in a production deployment.\u001b[0m\n",
            "\u001b[2m   Use a production WSGI server instead.\u001b[0m\n",
            " * Debug mode: off\n"
          ],
          "name": "stdout"
        },
        {
          "output_type": "stream",
          "text": [
            " * Running on http://127.0.0.1:5000/ (Press CTRL+C to quit)\n"
          ],
          "name": "stderr"
        },
        {
          "output_type": "stream",
          "text": [
            " * Running on http://ce5a3add.ngrok.io\n",
            " * Traffic stats available on http://127.0.0.1:4040\n"
          ],
          "name": "stdout"
        },
        {
          "output_type": "stream",
          "text": [
            "127.0.0.1 - - [04/May/2020 16:53:59] \"\u001b[37mGET / HTTP/1.1\u001b[0m\" 200 -\n",
            "127.0.0.1 - - [04/May/2020 16:54:33] \"\u001b[37mGET / HTTP/1.1\u001b[0m\" 200 -\n",
            "127.0.0.1 - - [04/May/2020 16:54:34] \"\u001b[33mGET /favicon.ico HTTP/1.1\u001b[0m\" 404 -\n",
            "127.0.0.1 - - [04/May/2020 16:54:43] \"\u001b[37mGET / HTTP/1.1\u001b[0m\" 200 -\n",
            "127.0.0.1 - - [04/May/2020 16:55:46] \"\u001b[37mGET / HTTP/1.1\u001b[0m\" 200 -\n",
            "127.0.0.1 - - [04/May/2020 16:55:51] \"\u001b[33mGET /favicon.ico HTTP/1.1\u001b[0m\" 404 -\n",
            "127.0.0.1 - - [04/May/2020 16:56:39] \"\u001b[32mPOST / HTTP/1.1\u001b[0m\" 302 -\n",
            "127.0.0.1 - - [04/May/2020 16:56:39] \"\u001b[37mGET / HTTP/1.1\u001b[0m\" 200 -\n",
            "127.0.0.1 - - [04/May/2020 16:57:12] \"\u001b[32mPOST / HTTP/1.1\u001b[0m\" 302 -\n",
            "127.0.0.1 - - [04/May/2020 16:57:12] \"\u001b[37mGET / HTTP/1.1\u001b[0m\" 200 -\n",
            "127.0.0.1 - - [04/May/2020 17:00:54] \"\u001b[37mGET / HTTP/1.1\u001b[0m\" 200 -\n",
            "127.0.0.1 - - [04/May/2020 17:00:54] \"\u001b[33mGET /favicon.ico HTTP/1.1\u001b[0m\" 404 -\n",
            "127.0.0.1 - - [04/May/2020 17:00:58] \"\u001b[32mPOST / HTTP/1.1\u001b[0m\" 302 -\n",
            "127.0.0.1 - - [04/May/2020 17:00:58] \"\u001b[37mGET / HTTP/1.1\u001b[0m\" 200 -\n",
            "127.0.0.1 - - [04/May/2020 17:01:05] \"\u001b[32mPOST / HTTP/1.1\u001b[0m\" 302 -\n",
            "127.0.0.1 - - [04/May/2020 17:01:06] \"\u001b[37mGET / HTTP/1.1\u001b[0m\" 200 -\n",
            "127.0.0.1 - - [04/May/2020 17:04:03] \"\u001b[37mGET / HTTP/1.1\u001b[0m\" 200 -\n",
            "127.0.0.1 - - [04/May/2020 17:04:05] \"\u001b[33mGET /favicon.ico HTTP/1.1\u001b[0m\" 404 -\n",
            "127.0.0.1 - - [04/May/2020 17:04:07] \"\u001b[32mPOST / HTTP/1.1\u001b[0m\" 302 -\n",
            "127.0.0.1 - - [04/May/2020 17:04:09] \"\u001b[37mGET / HTTP/1.1\u001b[0m\" 200 -\n",
            "127.0.0.1 - - [04/May/2020 17:13:56] \"\u001b[37mGET / HTTP/1.1\u001b[0m\" 200 -\n",
            "127.0.0.1 - - [04/May/2020 17:13:56] \"\u001b[33mGET /favicon.ico HTTP/1.1\u001b[0m\" 404 -\n",
            "127.0.0.1 - - [04/May/2020 17:14:21] \"\u001b[32mPOST / HTTP/1.1\u001b[0m\" 302 -\n",
            "127.0.0.1 - - [04/May/2020 17:14:32] \"\u001b[37mGET /heartrate/video.mov HTTP/1.1\u001b[0m\" 200 -\n",
            "127.0.0.1 - - [04/May/2020 17:20:56] \"\u001b[37mGET / HTTP/1.1\u001b[0m\" 200 -\n",
            "127.0.0.1 - - [04/May/2020 17:21:59] \"\u001b[32mPOST / HTTP/1.1\u001b[0m\" 302 -\n",
            "127.0.0.1 - - [04/May/2020 17:22:01] \"\u001b[37mGET / HTTP/1.1\u001b[0m\" 200 -\n",
            "127.0.0.1 - - [04/May/2020 17:32:34] \"\u001b[37mGET / HTTP/1.1\u001b[0m\" 200 -\n",
            "127.0.0.1 - - [04/May/2020 17:32:35] \"\u001b[33mGET /favicon.ico HTTP/1.1\u001b[0m\" 404 -\n",
            "127.0.0.1 - - [04/May/2020 17:32:52] \"\u001b[32mPOST / HTTP/1.1\u001b[0m\" 302 -\n",
            "127.0.0.1 - - [04/May/2020 17:33:10] \"\u001b[37mGET /heartrate/yo.mp4 HTTP/1.1\u001b[0m\" 200 -\n",
            "127.0.0.1 - - [04/May/2020 17:36:30] \"\u001b[37mGET / HTTP/1.1\u001b[0m\" 200 -\n",
            "127.0.0.1 - - [04/May/2020 17:36:30] \"\u001b[33mGET /favicon.ico HTTP/1.1\u001b[0m\" 404 -\n",
            "127.0.0.1 - - [04/May/2020 17:38:20] \"\u001b[32mPOST / HTTP/1.1\u001b[0m\" 302 -\n",
            "127.0.0.1 - - [04/May/2020 17:38:27] \"\u001b[37mGET /heartrate/WIN_20200504_23_07_24_Pro.mp4 HTTP/1.1\u001b[0m\" 200 -\n",
            "127.0.0.1 - - [04/May/2020 17:38:27] \"\u001b[33mGET /favicon.ico HTTP/1.1\u001b[0m\" 404 -\n",
            "127.0.0.1 - - [04/May/2020 17:42:13] \"\u001b[37mGET / HTTP/1.1\u001b[0m\" 200 -\n",
            "127.0.0.1 - - [04/May/2020 17:42:14] \"\u001b[33mGET /favicon.ico HTTP/1.1\u001b[0m\" 404 -\n",
            "127.0.0.1 - - [04/May/2020 17:45:09] \"\u001b[37mGET / HTTP/1.1\u001b[0m\" 200 -\n",
            "127.0.0.1 - - [04/May/2020 17:59:35] \"\u001b[37mGET / HTTP/1.1\u001b[0m\" 200 -\n",
            "127.0.0.1 - - [04/May/2020 17:59:35] \"\u001b[33mGET /favicon.ico HTTP/1.1\u001b[0m\" 404 -\n",
            "127.0.0.1 - - [04/May/2020 18:00:57] \"\u001b[37mGET / HTTP/1.1\u001b[0m\" 200 -\n",
            "127.0.0.1 - - [04/May/2020 18:00:58] \"\u001b[33mGET /favicon.ico HTTP/1.1\u001b[0m\" 404 -\n",
            "127.0.0.1 - - [04/May/2020 18:01:45] \"\u001b[32mPOST / HTTP/1.1\u001b[0m\" 302 -\n",
            "127.0.0.1 - - [04/May/2020 18:01:58] \"\u001b[37mGET /heartrate/VID-20200504-WA0035.mp4 HTTP/1.1\u001b[0m\" 200 -\n",
            "127.0.0.1 - - [04/May/2020 18:02:12] \"\u001b[32mPOST / HTTP/1.1\u001b[0m\" 302 -\n",
            "127.0.0.1 - - [04/May/2020 18:02:25] \"\u001b[37mGET /heartrate/VID-20200504-WA0035.mp4 HTTP/1.1\u001b[0m\" 200 -\n",
            "127.0.0.1 - - [04/May/2020 18:04:06] \"\u001b[37mGET / HTTP/1.1\u001b[0m\" 200 -\n",
            "127.0.0.1 - - [04/May/2020 18:04:06] \"\u001b[33mGET /favicon.ico HTTP/1.1\u001b[0m\" 404 -\n",
            "127.0.0.1 - - [04/May/2020 18:05:49] \"\u001b[32mPOST / HTTP/1.1\u001b[0m\" 302 -\n",
            "127.0.0.1 - - [04/May/2020 18:05:49] \"\u001b[37mGET / HTTP/1.1\u001b[0m\" 200 -\n",
            "127.0.0.1 - - [04/May/2020 18:12:40] \"\u001b[37mGET / HTTP/1.1\u001b[0m\" 200 -\n",
            "127.0.0.1 - - [04/May/2020 18:12:40] \"\u001b[33mGET /favicon.ico HTTP/1.1\u001b[0m\" 404 -\n",
            "127.0.0.1 - - [04/May/2020 18:13:02] \"\u001b[32mPOST / HTTP/1.1\u001b[0m\" 302 -\n",
            "127.0.0.1 - - [04/May/2020 18:13:02] \"\u001b[37mGET / HTTP/1.1\u001b[0m\" 200 -\n",
            "127.0.0.1 - - [04/May/2020 18:14:28] \"\u001b[32mPOST / HTTP/1.1\u001b[0m\" 302 -\n",
            "127.0.0.1 - - [04/May/2020 18:14:28] \"\u001b[37mGET / HTTP/1.1\u001b[0m\" 200 -\n",
            "127.0.0.1 - - [04/May/2020 18:20:15] \"\u001b[32mPOST / HTTP/1.1\u001b[0m\" 302 -\n",
            "127.0.0.1 - - [04/May/2020 18:20:16] \"\u001b[37mGET / HTTP/1.1\u001b[0m\" 200 -\n",
            "127.0.0.1 - - [04/May/2020 18:29:39] \"\u001b[37mGET / HTTP/1.1\u001b[0m\" 200 -\n",
            "127.0.0.1 - - [04/May/2020 18:44:50] \"\u001b[32mPOST / HTTP/1.1\u001b[0m\" 302 -\n",
            "127.0.0.1 - - [04/May/2020 18:45:02] \"\u001b[37mGET /heartrate/yo_activo.mp4 HTTP/1.1\u001b[0m\" 200 -\n",
            "127.0.0.1 - - [04/May/2020 18:52:03] \"\u001b[37mGET / HTTP/1.1\u001b[0m\" 200 -\n",
            "127.0.0.1 - - [04/May/2020 18:52:03] \"\u001b[33mGET /favicon.ico HTTP/1.1\u001b[0m\" 404 -\n",
            "127.0.0.1 - - [04/May/2020 18:52:08] \"\u001b[32mPOST / HTTP/1.1\u001b[0m\" 302 -\n",
            "127.0.0.1 - - [04/May/2020 18:52:08] \"\u001b[37mGET / HTTP/1.1\u001b[0m\" 200 -\n",
            "127.0.0.1 - - [04/May/2020 18:52:19] \"\u001b[32mPOST / HTTP/1.1\u001b[0m\" 302 -\n",
            "127.0.0.1 - - [04/May/2020 18:52:19] \"\u001b[37mGET / HTTP/1.1\u001b[0m\" 200 -\n",
            "127.0.0.1 - - [04/May/2020 18:52:56] \"\u001b[32mPOST / HTTP/1.1\u001b[0m\" 302 -\n",
            "127.0.0.1 - - [04/May/2020 18:53:00] \"\u001b[37mGET /heartrate/61031115822__2600A411-3B58-40DD-9345-4A6E69A26CE3.MOV HTTP/1.1\u001b[0m\" 200 -\n",
            "127.0.0.1 - - [04/May/2020 18:53:00] \"\u001b[33mGET /favicon.ico HTTP/1.1\u001b[0m\" 404 -\n",
            "127.0.0.1 - - [04/May/2020 18:53:28] \"\u001b[37mGET / HTTP/1.1\u001b[0m\" 200 -\n",
            "127.0.0.1 - - [04/May/2020 18:53:55] \"\u001b[37mGET / HTTP/1.1\u001b[0m\" 200 -\n",
            "127.0.0.1 - - [04/May/2020 18:54:00] \"\u001b[37mGET / HTTP/1.1\u001b[0m\" 200 -\n",
            "127.0.0.1 - - [04/May/2020 18:57:29] \"\u001b[37mGET / HTTP/1.1\u001b[0m\" 200 -\n",
            "127.0.0.1 - - [04/May/2020 19:00:03] \"\u001b[37mGET / HTTP/1.1\u001b[0m\" 200 -\n",
            "127.0.0.1 - - [04/May/2020 19:00:19] \"\u001b[32mPOST / HTTP/1.1\u001b[0m\" 302 -\n",
            "127.0.0.1 - - [04/May/2020 19:00:19] \"\u001b[37mGET / HTTP/1.1\u001b[0m\" 200 -\n",
            "127.0.0.1 - - [04/May/2020 19:00:23] \"\u001b[32mPOST / HTTP/1.1\u001b[0m\" 302 -\n",
            "127.0.0.1 - - [04/May/2020 19:00:23] \"\u001b[37mGET / HTTP/1.1\u001b[0m\" 200 -\n",
            "127.0.0.1 - - [04/May/2020 19:01:17] \"\u001b[37mGET / HTTP/1.1\u001b[0m\" 200 -\n",
            "127.0.0.1 - - [04/May/2020 19:02:10] \"\u001b[32mPOST / HTTP/1.1\u001b[0m\" 302 -\n",
            "127.0.0.1 - - [04/May/2020 19:02:30] \"\u001b[37mGET /heartrate/61031169293__7BFB09CA-5763-4F11-BA0E-670896749465.MOV HTTP/1.1\u001b[0m\" 200 -\n",
            "127.0.0.1 - - [04/May/2020 19:02:31] \"\u001b[33mGET /favicon.ico HTTP/1.1\u001b[0m\" 404 -\n",
            "127.0.0.1 - - [04/May/2020 19:03:39] \"\u001b[37mGET / HTTP/1.1\u001b[0m\" 200 -\n",
            "127.0.0.1 - - [04/May/2020 19:04:42] \"\u001b[37mGET / HTTP/1.1\u001b[0m\" 200 -\n",
            "127.0.0.1 - - [04/May/2020 19:04:46] \"\u001b[32mPOST / HTTP/1.1\u001b[0m\" 302 -\n",
            "127.0.0.1 - - [04/May/2020 19:04:46] \"\u001b[37mGET / HTTP/1.1\u001b[0m\" 200 -\n",
            "127.0.0.1 - - [04/May/2020 19:07:01] \"\u001b[37mGET / HTTP/1.1\u001b[0m\" 200 -\n",
            "127.0.0.1 - - [04/May/2020 19:09:20] \"\u001b[32mPOST / HTTP/1.1\u001b[0m\" 302 -\n",
            "127.0.0.1 - - [04/May/2020 19:09:42] \"\u001b[37mGET /heartrate/61031211710__AA703BE3-4122-4A1E-82E8-07316C13D284.MOV HTTP/1.1\u001b[0m\" 200 -\n",
            "127.0.0.1 - - [04/May/2020 19:09:42] \"\u001b[33mGET /favicon.ico HTTP/1.1\u001b[0m\" 404 -\n",
            "127.0.0.1 - - [04/May/2020 19:10:27] \"\u001b[33mGET /heartrate//heartrate/61031211710__AA703BE3-4122-4A1E-82E8-07316C13D284.MOV HTTP/1.1\u001b[0m\" 404 -\n",
            "127.0.0.1 - - [04/May/2020 19:10:27] \"\u001b[33mGET /favicon.ico HTTP/1.1\u001b[0m\" 404 -\n",
            "127.0.0.1 - - [04/May/2020 19:11:00] \"\u001b[37mGET /heartrate/61031211710__AA703BE3-4122-4A1E-82E8-07316C13D284.MOV HTTP/1.1\u001b[0m\" 200 -\n",
            "127.0.0.1 - - [04/May/2020 19:12:23] \"\u001b[37mGET / HTTP/1.1\u001b[0m\" 200 -\n",
            "127.0.0.1 - - [04/May/2020 19:12:35] \"\u001b[37mGET /heartrate/61031211710__AA703BE3-4122-4A1E-82E8-07316C13D284.MOV HTTP/1.1\u001b[0m\" 200 -\n",
            "127.0.0.1 - - [04/May/2020 19:13:26] \"\u001b[32mPOST / HTTP/1.1\u001b[0m\" 302 -\n",
            "127.0.0.1 - - [04/May/2020 19:14:11] \"\u001b[37mGET /heartrate/61031211710__AA703BE3-4122-4A1E-82E8-07316C13D284.MOV HTTP/1.1\u001b[0m\" 200 -\n",
            "127.0.0.1 - - [04/May/2020 19:14:13] \"\u001b[37mGET /heartrate/61031211710__AA703BE3-4122-4A1E-82E8-07316C13D284.MOV HTTP/1.1\u001b[0m\" 200 -\n",
            "127.0.0.1 - - [04/May/2020 19:14:14] \"\u001b[32mPOST / HTTP/1.1\u001b[0m\" 302 -\n",
            "127.0.0.1 - - [04/May/2020 19:14:14] \"\u001b[33mGET /favicon.ico HTTP/1.1\u001b[0m\" 404 -\n",
            "127.0.0.1 - - [04/May/2020 19:14:23] \"\u001b[37mGET /heartrate/61031211710__AA703BE3-4122-4A1E-82E8-07316C13D284.MOV HTTP/1.1\u001b[0m\" 200 -\n",
            "127.0.0.1 - - [04/May/2020 19:14:39] \"\u001b[32mPOST / HTTP/1.1\u001b[0m\" 302 -\n",
            "127.0.0.1 - - [04/May/2020 19:14:48] \"\u001b[37mGET /heartrate/61031236797__B98CF4EE-C8B0-4172-8996-E5DF63961ACB.MOV HTTP/1.1\u001b[0m\" 200 -\n",
            "127.0.0.1 - - [04/May/2020 19:15:13] \"\u001b[37mGET /heartrate/61031236797__B98CF4EE-C8B0-4172-8996-E5DF63961ACB.MOV HTTP/1.1\u001b[0m\" 200 -\n",
            "127.0.0.1 - - [04/May/2020 19:15:26] \"\u001b[37mGET /heartrate/61031236797__B98CF4EE-C8B0-4172-8996-E5DF63961ACB.MOV HTTP/1.1\u001b[0m\" 200 -\n",
            "127.0.0.1 - - [04/May/2020 19:15:27] \"\u001b[33mGET /favicon.ico HTTP/1.1\u001b[0m\" 404 -\n",
            "127.0.0.1 - - [04/May/2020 19:57:09] \"\u001b[37mGET / HTTP/1.1\u001b[0m\" 200 -\n",
            "127.0.0.1 - - [04/May/2020 19:58:01] \"\u001b[32mPOST / HTTP/1.1\u001b[0m\" 302 -\n",
            "127.0.0.1 - - [04/May/2020 19:58:22] \"\u001b[32mPOST / HTTP/1.1\u001b[0m\" 302 -\n",
            "127.0.0.1 - - [04/May/2020 19:58:34] \"\u001b[37mGET /heartrate/61031504063__EA7B0B26-F6D0-46CA-A2F3-F68CA8178157.MOV HTTP/1.1\u001b[0m\" 200 -\n",
            "127.0.0.1 - - [04/May/2020 19:58:50] \"\u001b[32mPOST / HTTP/1.1\u001b[0m\" 302 -\n",
            "127.0.0.1 - - [04/May/2020 19:59:00] \"\u001b[37mGET /heartrate/61031504063__EA7B0B26-F6D0-46CA-A2F3-F68CA8178157.MOV HTTP/1.1\u001b[0m\" 200 -\n",
            "127.0.0.1 - - [04/May/2020 19:59:09] \"\u001b[32mPOST / HTTP/1.1\u001b[0m\" 302 -\n",
            "127.0.0.1 - - [04/May/2020 19:59:35] \"\u001b[37mGET /heartrate/61031504063__EA7B0B26-F6D0-46CA-A2F3-F68CA8178157.MOV HTTP/1.1\u001b[0m\" 200 -\n",
            "127.0.0.1 - - [04/May/2020 19:59:48] \"\u001b[32mPOST / HTTP/1.1\u001b[0m\" 302 -\n",
            "127.0.0.1 - - [04/May/2020 19:59:50] \"\u001b[37mGET /heartrate/61031504063__EA7B0B26-F6D0-46CA-A2F3-F68CA8178157.MOV HTTP/1.1\u001b[0m\" 200 -\n",
            "127.0.0.1 - - [04/May/2020 20:00:16] \"\u001b[37mGET /heartrate/61031504063__EA7B0B26-F6D0-46CA-A2F3-F68CA8178157.MOV HTTP/1.1\u001b[0m\" 200 -\n",
            "127.0.0.1 - - [04/May/2020 20:00:16] \"\u001b[33mGET /favicon.ico HTTP/1.1\u001b[0m\" 404 -\n",
            "127.0.0.1 - - [04/May/2020 20:06:40] \"\u001b[37mGET /heartrate/61031211710__AA703BE3-4122-4A1E-82E8-07316C13D284.MOV HTTP/1.1\u001b[0m\" 200 -\n"
          ],
          "name": "stderr"
        }
      ]
    },
    {
      "cell_type": "code",
      "metadata": {
        "id": "Sblk1IvFR724",
        "colab_type": "code",
        "outputId": "52a79ea2-f6a8-49bf-cf21-317825f50133",
        "colab": {
          "base_uri": "https://localhost:8080/",
          "height": 208
        }
      },
      "source": [
        "%ls upload"
      ],
      "execution_count": 0,
      "outputs": [
        {
          "output_type": "stream",
          "text": [
            "61031115822__2600A411-3B58-40DD-9345-4A6E69A26CE3.MOV\n",
            "61031169293__7BFB09CA-5763-4F11-BA0E-670896749465.MOV\n",
            "61031211710__AA703BE3-4122-4A1E-82E8-07316C13D284.MOV\n",
            "61031236797__B98CF4EE-C8B0-4172-8996-E5DF63961ACB.MOV\n",
            "61031504063__EA7B0B26-F6D0-46CA-A2F3-F68CA8178157.MOV\n",
            "VID-20200504-WA0035.mp4\n",
            "video2.mov\n",
            "video.mov\n",
            "WIN_20200504_23_07_24_Pro.mp4\n",
            "yo_activo.mp4\n",
            "yo.mp4\n"
          ],
          "name": "stdout"
        }
      ]
    },
    {
      "cell_type": "code",
      "metadata": {
        "id": "rC96QchEUImc",
        "colab_type": "code",
        "colab": {}
      },
      "source": [
        ""
      ],
      "execution_count": 0,
      "outputs": []
    }
  ]
}